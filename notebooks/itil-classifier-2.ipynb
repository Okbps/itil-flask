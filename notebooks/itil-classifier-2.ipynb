{
 "cells": [
  {
   "cell_type": "raw",
   "metadata": {},
   "source": [
    "!pip install pymorphy2\n",
    "!pip install stop-words"
   ]
  },
  {
   "cell_type": "code",
   "execution_count": 1,
   "metadata": {},
   "outputs": [],
   "source": [
    "%matplotlib inline\n",
    "\n",
    "import pandas as pd\n",
    "import matplotlib.pyplot as plt\n",
    "import seaborn as sns\n",
    "import numpy as np\n",
    "import re\n",
    "import pymorphy2\n",
    "import urllib.request\n",
    "import json   \n",
    "import requests\n",
    "\n",
    "from pymorphy2.tokenizers import simple_word_tokenize\n",
    "from pymorphy2.shapes import is_punctuation\n",
    "from collections import Counter\n",
    "from stop_words import get_stop_words\n",
    "from sklearn.feature_selection import chi2\n",
    "from sklearn.feature_extraction.text import TfidfVectorizer, CountVectorizer, TfidfTransformer\n",
    "from sklearn.naive_bayes import MultinomialNB\n",
    "from sklearn.linear_model import LogisticRegression\n",
    "from sklearn.ensemble import RandomForestClassifier\n",
    "from sklearn.svm import LinearSVC\n",
    "from sklearn.model_selection import cross_val_score, train_test_split, RandomizedSearchCV\n",
    "from sklearn import metrics\n",
    "from scipy.stats import randint as sp_randint\n",
    "from sklearn.externals import joblib"
   ]
  },
  {
   "cell_type": "code",
   "execution_count": 18,
   "metadata": {},
   "outputs": [
    {
     "data": {
      "text/html": [
       "<div>\n",
       "<style scoped>\n",
       "    .dataframe tbody tr th:only-of-type {\n",
       "        vertical-align: middle;\n",
       "    }\n",
       "\n",
       "    .dataframe tbody tr th {\n",
       "        vertical-align: top;\n",
       "    }\n",
       "\n",
       "    .dataframe thead th {\n",
       "        text-align: right;\n",
       "    }\n",
       "</style>\n",
       "<table border=\"1\" class=\"dataframe\">\n",
       "  <thead>\n",
       "    <tr style=\"text-align: right;\">\n",
       "      <th></th>\n",
       "      <th>route</th>\n",
       "      <th>specialist</th>\n",
       "      <th>title</th>\n",
       "      <th>category</th>\n",
       "      <th>analytics1</th>\n",
       "      <th>analytics2</th>\n",
       "      <th>analytics3</th>\n",
       "      <th>user</th>\n",
       "    </tr>\n",
       "  </thead>\n",
       "  <tbody>\n",
       "    <tr>\n",
       "      <th>5984</th>\n",
       "      <td>зо</td>\n",
       "      <td>Талаева Вера</td>\n",
       "      <td>срочно</td>\n",
       "      <td>Консультация</td>\n",
       "      <td>Розничный отдел</td>\n",
       "      <td>1С УТ 11</td>\n",
       "      <td>Поддержка УТ11</td>\n",
       "      <td>Севернева Вероника</td>\n",
       "    </tr>\n",
       "    <tr>\n",
       "      <th>1709</th>\n",
       "      <td>зо</td>\n",
       "      <td>Быков Вадим</td>\n",
       "      <td>FW: ключ для нового сотрудника</td>\n",
       "      <td>Hardware::Smartcards</td>\n",
       "      <td>Складская служба</td>\n",
       "      <td>Ключ доступа</td>\n",
       "      <td>Поддержка инфраструктуры</td>\n",
       "      <td>Шевченко Александр</td>\n",
       "    </tr>\n",
       "    <tr>\n",
       "      <th>2562</th>\n",
       "      <td>зо</td>\n",
       "      <td>Талаева Вера</td>\n",
       "      <td>ITIL. Проверка работы с вложениями.</td>\n",
       "      <td>Администрирование 1С</td>\n",
       "      <td>Отдел разработки 1С</td>\n",
       "      <td>1С ITIL</td>\n",
       "      <td>Поддержка 1C ITIL</td>\n",
       "      <td>Зезюлькин Сергей</td>\n",
       "    </tr>\n",
       "    <tr>\n",
       "      <th>11836</th>\n",
       "      <td>зо</td>\n",
       "      <td>Талаева Вера</td>\n",
       "      <td>удалить контрагента</td>\n",
       "      <td>Изменение данных</td>\n",
       "      <td>Отдел ВЭД</td>\n",
       "      <td>1С УТ 11</td>\n",
       "      <td>Поддержка УТ11</td>\n",
       "      <td>Кучинская Анастасия</td>\n",
       "    </tr>\n",
       "    <tr>\n",
       "      <th>5437</th>\n",
       "      <td>зо</td>\n",
       "      <td>Талаева Вера</td>\n",
       "      <td>ВАЖНО СРОЧНО</td>\n",
       "      <td>Консультация</td>\n",
       "      <td>Транспортная логистика</td>\n",
       "      <td>1С УТ 11</td>\n",
       "      <td>Поддержка УТ11</td>\n",
       "      <td>Пролыгина Инесса</td>\n",
       "    </tr>\n",
       "  </tbody>\n",
       "</table>\n",
       "</div>"
      ],
      "text/plain": [
       "      route    specialist                                title  \\\n",
       "5984     зо  Талаева Вера                               срочно   \n",
       "1709     зо   Быков Вадим       FW: ключ для нового сотрудника   \n",
       "2562     зо  Талаева Вера  ITIL. Проверка работы с вложениями.   \n",
       "11836    зо  Талаева Вера                  удалить контрагента   \n",
       "5437     зо  Талаева Вера                         ВАЖНО СРОЧНО   \n",
       "\n",
       "                   category              analytics1    analytics2  \\\n",
       "5984           Консультация         Розничный отдел      1С УТ 11   \n",
       "1709   Hardware::Smartcards        Складская служба  Ключ доступа   \n",
       "2562   Администрирование 1С     Отдел разработки 1С       1С ITIL   \n",
       "11836      Изменение данных               Отдел ВЭД      1С УТ 11   \n",
       "5437           Консультация  Транспортная логистика      1С УТ 11   \n",
       "\n",
       "                     analytics3                 user  \n",
       "5984             Поддержка УТ11   Севернева Вероника  \n",
       "1709   Поддержка инфраструктуры   Шевченко Александр  \n",
       "2562          Поддержка 1C ITIL     Зезюлькин Сергей  \n",
       "11836            Поддержка УТ11  Кучинская Анастасия  \n",
       "5437             Поддержка УТ11     Пролыгина Инесса  "
      ]
     },
     "execution_count": 18,
     "metadata": {},
     "output_type": "execute_result"
    }
   ],
   "source": [
    "df = pd.read_csv(\"../data/itil-tickets-6.csv\", sep=',')\n",
    "# df = pd.read_clipboard()\n",
    "# df.to_csv('../data/itil-tickets-6.csv', index=False)\n",
    "# df = df.dropna()\n",
    "df.sample(n=5).head()"
   ]
  },
  {
   "cell_type": "code",
   "execution_count": 19,
   "metadata": {},
   "outputs": [
    {
     "data": {
      "text/html": [
       "<div>\n",
       "<style scoped>\n",
       "    .dataframe tbody tr th:only-of-type {\n",
       "        vertical-align: middle;\n",
       "    }\n",
       "\n",
       "    .dataframe tbody tr th {\n",
       "        vertical-align: top;\n",
       "    }\n",
       "\n",
       "    .dataframe thead th {\n",
       "        text-align: right;\n",
       "    }\n",
       "</style>\n",
       "<table border=\"1\" class=\"dataframe\">\n",
       "  <thead>\n",
       "    <tr style=\"text-align: right;\">\n",
       "      <th></th>\n",
       "      <th>route</th>\n",
       "      <th>specialist</th>\n",
       "      <th>title</th>\n",
       "      <th>category</th>\n",
       "      <th>analytics1</th>\n",
       "      <th>analytics2</th>\n",
       "      <th>analytics3</th>\n",
       "      <th>user</th>\n",
       "    </tr>\n",
       "  </thead>\n",
       "  <tbody>\n",
       "    <tr>\n",
       "      <th>13936</th>\n",
       "      <td>зи</td>\n",
       "      <td>Талаева Вера</td>\n",
       "      <td>Возможность сделать 2 поступления на основании...</td>\n",
       "      <td>Незначительная доработка</td>\n",
       "      <td>Маркетинг</td>\n",
       "      <td>1С УТ 11</td>\n",
       "      <td>Поддержка УТ11</td>\n",
       "      <td>Талаева Вера</td>\n",
       "    </tr>\n",
       "    <tr>\n",
       "      <th>13845</th>\n",
       "      <td>зи</td>\n",
       "      <td>Манюхин Андрей</td>\n",
       "      <td>УТ - склад - заказ на перемещение товаров - ро...</td>\n",
       "      <td>Незначительная доработка</td>\n",
       "      <td>Розничный магазин</td>\n",
       "      <td>1С Розница для Беларуси</td>\n",
       "      <td>Поддержка Розница</td>\n",
       "      <td>Талаева Вера</td>\n",
       "    </tr>\n",
       "    <tr>\n",
       "      <th>2457</th>\n",
       "      <td>зо</td>\n",
       "      <td>Малеев Егор</td>\n",
       "      <td>1С УТ - кредитный контроль, распределение плат...</td>\n",
       "      <td>Изменение данных</td>\n",
       "      <td>Финансовый отдел</td>\n",
       "      <td>1С УТ 11</td>\n",
       "      <td>Кредитный контроль / Планирование денежных сре...</td>\n",
       "      <td>Пискуровская Елена</td>\n",
       "    </tr>\n",
       "    <tr>\n",
       "      <th>8779</th>\n",
       "      <td>зо</td>\n",
       "      <td>Талаева Вера</td>\n",
       "      <td>Заменены в  реализациях договора.</td>\n",
       "      <td>Изменение данных</td>\n",
       "      <td>Офистон</td>\n",
       "      <td>1С УТ 11</td>\n",
       "      <td>Поддержка УТ11</td>\n",
       "      <td>Подберезская Татьяна (Могилев)</td>\n",
       "    </tr>\n",
       "    <tr>\n",
       "      <th>9559</th>\n",
       "      <td>зо</td>\n",
       "      <td>Талаева Вера</td>\n",
       "      <td>подхватывается не та позиция с нанесением лого...</td>\n",
       "      <td>Консультация</td>\n",
       "      <td>Логотон</td>\n",
       "      <td>1С УТ 11</td>\n",
       "      <td>Поддержка УТ11</td>\n",
       "      <td>Кропис Юлия</td>\n",
       "    </tr>\n",
       "  </tbody>\n",
       "</table>\n",
       "</div>"
      ],
      "text/plain": [
       "      route      specialist  \\\n",
       "13936    зи    Талаева Вера   \n",
       "13845    зи  Манюхин Андрей   \n",
       "2457     зо     Малеев Егор   \n",
       "8779     зо    Талаева Вера   \n",
       "9559     зо    Талаева Вера   \n",
       "\n",
       "                                                   title  \\\n",
       "13936  Возможность сделать 2 поступления на основании...   \n",
       "13845  УТ - склад - заказ на перемещение товаров - ро...   \n",
       "2457   1С УТ - кредитный контроль, распределение плат...   \n",
       "8779                   Заменены в  реализациях договора.   \n",
       "9559   подхватывается не та позиция с нанесением лого...   \n",
       "\n",
       "                       category         analytics1               analytics2  \\\n",
       "13936  Незначительная доработка          Маркетинг                 1С УТ 11   \n",
       "13845  Незначительная доработка  Розничный магазин  1С Розница для Беларуси   \n",
       "2457           Изменение данных   Финансовый отдел                 1С УТ 11   \n",
       "8779           Изменение данных            Офистон                 1С УТ 11   \n",
       "9559               Консультация            Логотон                 1С УТ 11   \n",
       "\n",
       "                                              analytics3  \\\n",
       "13936                                     Поддержка УТ11   \n",
       "13845                                  Поддержка Розница   \n",
       "2457   Кредитный контроль / Планирование денежных сре...   \n",
       "8779                                      Поддержка УТ11   \n",
       "9559                                      Поддержка УТ11   \n",
       "\n",
       "                                 user  \n",
       "13936                    Талаева Вера  \n",
       "13845                    Талаева Вера  \n",
       "2457               Пискуровская Елена  \n",
       "8779   Подберезская Татьяна (Могилев)  \n",
       "9559                      Кропис Юлия  "
      ]
     },
     "execution_count": 19,
     "metadata": {},
     "output_type": "execute_result"
    }
   ],
   "source": [
    "train_data, test_data = train_test_split(df, test_size=0.2, random_state=42)\n",
    "train_data.head()"
   ]
  },
  {
   "cell_type": "markdown",
   "metadata": {},
   "source": [
    "### Elastic Search Baseline"
   ]
  },
  {
   "cell_type": "raw",
   "metadata": {},
   "source": [
    "ser_ids = pd.read_csv(\"data/itil-ids.csv\", sep=';', squeeze=True, index_col=1)"
   ]
  },
  {
   "cell_type": "raw",
   "metadata": {},
   "source": [
    "# q = \"(ツ) Ошибка! База smarton Фоновое задание. Ошибка выполнения РегламентноеЗадание.SW_ОбменDataApi!\"\n",
    " \n",
    "def get_from_elastic(q):\n",
    "    body = {'query': {\"match\": {\"header\": {\"query\": q, \"fuzziness\": \"0\"}}}}  \n",
    "\n",
    "    req = urllib.request.Request(\"http://192.168.17.135:9200/itilindex/mailheaders/_search\")\n",
    "    req.add_header('Content-Type', 'application/json; charset=utf-8')\n",
    "    jsondata = json.dumps(body)\n",
    "    jsondataasbytes = jsondata.encode('utf-8')\n",
    "    req.add_header('Content-Length', len(jsondataasbytes))\n",
    "    response = urllib.request.urlopen(req, jsondataasbytes)\n",
    "\n",
    "    d = json.loads(response.read())\n",
    "    \n",
    "    try:\n",
    "        ind = d['hits']['hits'][0]['_source']['id']\n",
    "        return ser_ids.at[ind]\n",
    "    except:\n",
    "        return ''"
   ]
  },
  {
   "cell_type": "raw",
   "metadata": {},
   "source": [
    "y_pred = []\n",
    "\n",
    "for k, v in test_data.iterrows():\n",
    "#     print(k, get_from_elastic(v['title']), v['specialist'], v['title'])\n",
    "    y_pred.append(get_from_elastic(v['title']))\n",
    "    \n",
    "print(metrics.accuracy_score(test_data['specialist'], y_pred, target_names=test_data['specialist'].unique()))    "
   ]
  },
  {
   "cell_type": "raw",
   "metadata": {},
   "source": [
    "print(metrics.accuracy_score(test_data['specialist'], y_pred))"
   ]
  },
  {
   "cell_type": "markdown",
   "metadata": {},
   "source": [
    "### Preprocessing"
   ]
  },
  {
   "cell_type": "code",
   "execution_count": 23,
   "metadata": {},
   "outputs": [
    {
     "name": "stdout",
     "output_type": "stream",
     "text": [
      "Кропис Юлия 0.31438858171531436\n",
      "Series([], Name: specialist, dtype: int64)\n"
     ]
    }
   ],
   "source": [
    "df['specialist'].replace(['Руководители службы Service Desk', 'Шкурупий Денис'], 'Манюхин Андрей', inplace=True)\n",
    "df['specialist'].replace('Кухарчук Дмитрий', 'Сергиевич Юрий', inplace=True)\n",
    "df['specialist'].replace('Талаева Вера', 'Кропис Юлия', inplace=True)\n",
    "df['specialist'].replace('Быков Вадим', 'Полегошко Андрей', inplace=True)\n",
    "\n",
    "grouped = df['specialist'].value_counts()\n",
    "print(grouped.index[0], grouped.iloc[0]/grouped.sum())\n",
    "\n",
    "users_minor = grouped[grouped<=10]\n",
    "print(users_minor)"
   ]
  },
  {
   "cell_type": "code",
   "execution_count": 22,
   "metadata": {},
   "outputs": [],
   "source": [
    "for um in users_minor.index:\n",
    "    df = df.loc[df['specialist']!=um]"
   ]
  },
  {
   "cell_type": "raw",
   "metadata": {},
   "source": [
    "# specialist to category\n",
    "col = ['specialist', 'title']\n",
    "df = df[col]\n",
    "df = df[pd.notnull(df['title'])]\n",
    "\n",
    "df['category_id'] = df['specialist'].factorize()[0]\n",
    "category_id_df = df[['specialist', 'category_id']].drop_duplicates().sort_values('category_id')\n",
    "category_to_id = dict(category_id_df.values)\n",
    "id_to_category = dict(category_id_df[['category_id', 'specialist']].values)\n",
    "df.head()"
   ]
  },
  {
   "cell_type": "code",
   "execution_count": 10,
   "metadata": {},
   "outputs": [
    {
     "data": {
      "image/png": "[encoded data removed]",
      "text/plain": [
       "<Figure size 864x432 with 1 Axes>"
      ]
     },
     "metadata": {},
     "output_type": "display_data"
    }
   ],
   "source": [
    "fig = plt.figure(figsize=(12,6))\n",
    "df.groupby('specialist').title.count().sort_values(ascending=True).plot.barh(ylim=0)\n",
    "plt.savefig('specialists.png')\n",
    "plt.show()"
   ]
  },
  {
   "cell_type": "code",
   "execution_count": 11,
   "metadata": {},
   "outputs": [
    {
     "data": {
      "text/plain": [
       "0         проверка работы\n",
       "2                   Test!\n",
       "3    Проверка работы itil\n",
       "4                 Test md\n",
       "6    Проверка работы ITIL\n",
       "8                проверка\n",
       "9                    Test\n",
       "Name: title, dtype: object"
      ]
     },
     "execution_count": 11,
     "metadata": {},
     "output_type": "execute_result"
    }
   ],
   "source": [
    "def replace_by_re(s, pattern, repl):\n",
    "    return re.sub(pattern, repl, s)\n",
    "\n",
    "df['title'] = df['title'].apply(replace_by_re, args=('1[CСcс]', \"1С\"))\n",
    "df['title'] = df['title'].apply(replace_by_re, args=('FW:\\s+', \"\"))\n",
    "df['title'] = df['title'].apply(replace_by_re, args=('RE:\\s+', \"\"))\n",
    "df['title'] = df['title'].apply(replace_by_re, args=('(\\d{2}[\\.\\\\\\/]){2}(\\d{2})+', \"дата\"))\n",
    "# df['title'] = df['title'].apply(replace_by_re, args=(\"[\\:\\#\\№%\\!\\d\\-\\'\\.]\", \"\"))\n",
    "# df['title'] = df['title'].apply(replace_by_re, args=('\\\"', \"\"))\n",
    "\n",
    "df = df[df['title']!='']\n",
    "\n",
    "df['title'].loc[:10]"
   ]
  },
  {
   "cell_type": "code",
   "execution_count": 12,
   "metadata": {},
   "outputs": [
    {
     "data": {
      "text/plain": [
       "(13662, 3)"
      ]
     },
     "execution_count": 12,
     "metadata": {},
     "output_type": "execute_result"
    }
   ],
   "source": [
    "df.shape"
   ]
  },
  {
   "cell_type": "code",
   "execution_count": 13,
   "metadata": {},
   "outputs": [
    {
     "data": {
      "text/plain": [
       "0         проверка работа\n",
       "2                    test\n",
       "3    проверка работа itil\n",
       "4                 test md\n",
       "6    проверка работа itil\n",
       "8                проверка\n",
       "9                    test\n",
       "Name: title, dtype: object"
      ]
     },
     "execution_count": 13,
     "metadata": {},
     "output_type": "execute_result"
    }
   ],
   "source": [
    "morph = pymorphy2.MorphAnalyzer()\n",
    "cnt = Counter()\n",
    "stop_words = get_stop_words('russian')\n",
    "\n",
    "def lemmatize(s):\n",
    "    l = [morph.parse(w)[0].normal_form for w in simple_word_tokenize(s) if not is_punctuation(w)]\n",
    "    l = [w for w in l if w not in stop_words]\n",
    "    \n",
    "    cnt.update(l)\n",
    "    \n",
    "    return \" \".join(l)\n",
    "\n",
    "df['title'] = df['title'].apply(lemmatize)\n",
    "\n",
    "df['title'].loc[:10]"
   ]
  },
  {
   "cell_type": "code",
   "execution_count": 14,
   "metadata": {},
   "outputs": [
    {
     "data": {
      "text/plain": [
       "(13662, 3)"
      ]
     },
     "execution_count": 14,
     "metadata": {},
     "output_type": "execute_result"
    }
   ],
   "source": [
    "df.shape"
   ]
  },
  {
   "cell_type": "markdown",
   "metadata": {},
   "source": [
    "### Transform"
   ]
  },
  {
   "cell_type": "code",
   "execution_count": 15,
   "metadata": {},
   "outputs": [
    {
     "data": {
      "text/plain": [
       "(13662, 2411)"
      ]
     },
     "execution_count": 15,
     "metadata": {},
     "output_type": "execute_result"
    }
   ],
   "source": [
    "tfidf = TfidfVectorizer(sublinear_tf=True, min_df=5, norm='l2', ngram_range=(1, 2))\n",
    "features = tfidf.fit_transform(df.title).toarray()\n",
    "labels = df.category_id\n",
    "features.shape"
   ]
  },
  {
   "cell_type": "code",
   "execution_count": 16,
   "metadata": {},
   "outputs": [
    {
     "name": "stdout",
     "output_type": "stream",
     "text": [
      "['этап', 'этикетка', 'юр', 'юр адрес', 'юрист', 'язык', 'январь', 'ярлык', 'ячейка', 'ящик']\n"
     ]
    }
   ],
   "source": [
    "fnames = tfidf.get_feature_names()\n",
    "print(fnames[-10:])"
   ]
  },
  {
   "cell_type": "markdown",
   "metadata": {},
   "source": [
    "### Model Search"
   ]
  },
  {
   "cell_type": "raw",
   "metadata": {},
   "source": [
    "models = [\n",
    "    RandomForestClassifier(n_estimators=200, max_depth=3, random_state=0),\n",
    "    LinearSVC(),\n",
    "    MultinomialNB(),\n",
    "    LogisticRegression(random_state=0),\n",
    "]\n",
    "\n",
    "CV = 5\n",
    "cv_df = pd.DataFrame(index=range(CV * len(models)))\n",
    "entries = []\n",
    "\n",
    "for model in models:\n",
    "  model_name = model.__class__.__name__\n",
    "  accuracies = cross_val_score(model, features, labels, scoring='accuracy', cv=CV)\n",
    "  for fold_idx, accuracy in enumerate(accuracies):\n",
    "    entries.append((model_name, fold_idx, accuracy))\n",
    "    \n",
    "cv_df = pd.DataFrame(entries, columns=['model_name', 'fold_idx', 'accuracy'])\n",
    "\n",
    "sns.boxplot(x='model_name', y='accuracy', data=cv_df)\n",
    "sns.stripplot(x='model_name', y='accuracy', data=cv_df, size=8, jitter=True, edgecolor=\"gray\", linewidth=2)\n",
    "plt.show()\n",
    "\n",
    "print(cv_df.groupby('model_name').accuracy.mean())"
   ]
  },
  {
   "cell_type": "code",
   "execution_count": 17,
   "metadata": {},
   "outputs": [],
   "source": [
    "X_train, X_test, y_train, y_test, indices_train, indices_test = train_test_split(features, labels, df.index, test_size=0.2, random_state=42)"
   ]
  },
  {
   "cell_type": "raw",
   "metadata": {},
   "source": [
    "clf = RandomForestClassifier(n_estimators=20)\n",
    "\n",
    "param_dist = {\"max_depth\": [3, None],\n",
    "              \"max_features\": sp_randint(1, 11),\n",
    "              \"min_samples_split\": sp_randint(2, 11),\n",
    "              \"min_samples_leaf\": sp_randint(1, 11),\n",
    "              \"bootstrap\": [True, False],\n",
    "              \"criterion\": [\"gini\", \"entropy\"]}\n",
    "\n",
    "n_iter_search = 20\n",
    "random_search = RandomizedSearchCV(clf, param_distributions=param_dist, n_iter=n_iter_search)\n",
    "random_search.fit(X_train, y_train)\n",
    "\n",
    "y_pred = random_search.best_estimator_.predict(X_test)\n",
    "\n",
    "print(metrics.classification_report(y_test, y_pred, target_names=df['specialist'].unique()))"
   ]
  },
  {
   "cell_type": "code",
   "execution_count": 18,
   "metadata": {},
   "outputs": [
    {
     "data": {
      "image/png": "[encoded data removed]",
      "text/plain": [
       "<Figure size 720x720 with 2 Axes>"
      ]
     },
     "metadata": {},
     "output_type": "display_data"
    }
   ],
   "source": [
    "model = MultinomialNB()\n",
    "model.fit(X_train, y_train)\n",
    "y_pred = model.predict(X_test)\n",
    "\n",
    "conf_mat = metrics.confusion_matrix(y_test, y_pred)\n",
    "fig, ax = plt.subplots(figsize=(10,10))\n",
    "sns.heatmap(conf_mat, annot=True, fmt='d', xticklabels=category_id_df.specialist.values, yticklabels=category_id_df.specialist.values)\n",
    "plt.ylabel('Actual')\n",
    "plt.xlabel('Predicted')\n",
    "plt.savefig('heatmap.png')"
   ]
  },
  {
   "cell_type": "code",
   "execution_count": 19,
   "metadata": {},
   "outputs": [
    {
     "name": "stdout",
     "output_type": "stream",
     "text": [
      "                    precision    recall  f1-score   support\n",
      "\n",
      "    Манюхин Андрей       0.40      0.37      0.38       414\n",
      "       Шевчик Юрий       1.00      0.04      0.07        53\n",
      "  Полегошко Андрей       0.55      0.49      0.52       199\n",
      " Баранов Александр       0.56      0.59      0.58       191\n",
      "       Кропис Юлия       0.47      0.88      0.62       905\n",
      "  Зезюлькин Сергей       1.00      0.05      0.09        42\n",
      "Покровский Евгений       0.50      0.12      0.20        73\n",
      "       Швец Богдан       0.54      0.11      0.19       176\n",
      "    Евхута Надежда       0.44      0.25      0.32       368\n",
      "       Малеев Егор       0.50      0.05      0.09       101\n",
      "      Повшок Игорь       0.00      0.00      0.00        13\n",
      "  Королев Владимир       0.57      0.09      0.15        46\n",
      "  Сивицкая Татьяна       0.78      0.09      0.16        78\n",
      "    Сергиевич Юрий       0.75      0.10      0.18        60\n",
      "   Головач Василий       0.00      0.00      0.00        11\n",
      "     Войтко Сергей       0.00      0.00      0.00         3\n",
      "\n",
      "       avg / total       0.51      0.48      0.42      2733\n",
      "\n"
     ]
    },
    {
     "name": "stderr",
     "output_type": "stream",
     "text": [
      "C:\\Users\\pokrovskiye\\AppData\\Local\\Continuum\\anaconda3\\lib\\site-packages\\sklearn\\metrics\\classification.py:1135: UndefinedMetricWarning: Precision and F-score are ill-defined and being set to 0.0 in labels with no predicted samples.\n",
      "  'precision', 'predicted', average, warn_for)\n"
     ]
    }
   ],
   "source": [
    "print(metrics.classification_report(y_test, y_pred, target_names=df['specialist'].unique()))"
   ]
  },
  {
   "cell_type": "code",
   "execution_count": 20,
   "metadata": {},
   "outputs": [
    {
     "name": "stdout",
     "output_type": "stream",
     "text": [
      "# 'Баранов Александр':\n",
      "  . Top unigrams: переадресация, доступ\n",
      "  . Top bigrams: работать телефон, переадресация почта\n",
      "# 'Войтко Сергей':\n",
      "  . Top unigrams: сотрудник, новый\n",
      "  . Top bigrams: новый сотрудник, доступ 1с\n",
      "# 'Головач Василий':\n",
      "  . Top unigrams: сайт, белкантон\n",
      "  . Top bigrams: сайт белкантон, сайт бкг\n",
      "# 'Евхута Надежда':\n",
      "  . Top unigrams: подарок, база\n",
      "  . Top bigrams: орг вопрос, розница орг\n",
      "# 'Зезюлькин Сергей':\n",
      "  . Top unigrams: 1с, база\n",
      "  . Top bigrams: копия база, база 1с\n",
      "# 'Королев Владимир':\n",
      "  . Top unigrams: доступ, новый\n",
      "  . Top bigrams: учётный запись, новый сотрудник\n",
      "# 'Кропис Юлия':\n",
      "  . Top unigrams: реализация, база\n",
      "  . Top bigrams: висеть база, зона доставка\n",
      "# 'Малеев Егор':\n",
      "  . Top unigrams: себестоимость, срочно\n",
      "  . Top bigrams: 1с ут, гтд москва\n",
      "# 'Манюхин Андрей':\n",
      "  . Top unigrams: заказ, отчёт\n",
      "  . Top bigrams: печатный форма, заказ клиент\n",
      "# 'Повшок Игорь':\n",
      "  . Top unigrams: сайт, офисмама\n",
      "  . Top bigrams: сайт офистон, личный кабинет\n",
      "# 'Покровский Евгений':\n",
      "  . Top unigrams: сайт, цена\n",
      "  . Top bigrams: сайт логотон, цена сайт\n",
      "# 'Полегошко Андрей':\n",
      "  . Top unigrams: принтер, картридж\n",
      "  . Top bigrams: новое сотрудник, новый сотрудник\n",
      "# 'Сергиевич Юрий':\n",
      "  . Top unigrams: товар, остаток\n",
      "  . Top bigrams: отрицательный остаток, задание перевозка\n",
      "# 'Сивицкая Татьяна':\n",
      "  . Top unigrams: зуп, эсчф\n",
      "  . Top bigrams: 1с зуп, task request\n",
      "# 'Швец Богдан':\n",
      "  . Top unigrams: заказ, база\n",
      "  . Top bigrams: задание перевозка, веб заказ\n",
      "# 'Шевчик Юрий':\n",
      "  . Top unigrams: почта, письмо\n",
      "  . Top bigrams: доходить письмо, доходить почта\n"
     ]
    }
   ],
   "source": [
    "model.fit(features, labels)\n",
    "N = 2\n",
    "for specialist, category_id in sorted(category_to_id.items()):\n",
    "  indices = np.argsort(model.coef_[category_id])\n",
    "  feature_names = np.array(tfidf.get_feature_names())[indices]\n",
    "  unigrams = [v for v in reversed(feature_names) if len(v.split(' ')) == 1][:N]\n",
    "  bigrams = [v for v in reversed(feature_names) if len(v.split(' ')) == 2][:N]\n",
    "  print(\"# '{}':\".format(specialist))\n",
    "  print(\"  . Top unigrams: {}\".format(', '.join(unigrams)))\n",
    "  print(\"  . Top bigrams: {}\".format(', '.join(bigrams)))"
   ]
  },
  {
   "cell_type": "code",
   "execution_count": 21,
   "metadata": {},
   "outputs": [
    {
     "name": "stdout",
     "output_type": "stream",
     "text": [
      "                    precision    recall  f1-score   support\n",
      "\n",
      "    Манюхин Андрей       0.40      0.37      0.38       414\n",
      "       Шевчик Юрий       1.00      0.04      0.07        53\n",
      "  Полегошко Андрей       0.55      0.49      0.52       199\n",
      " Баранов Александр       0.56      0.59      0.58       191\n",
      "       Кропис Юлия       0.47      0.88      0.62       905\n",
      "  Зезюлькин Сергей       1.00      0.05      0.09        42\n",
      "Покровский Евгений       0.50      0.12      0.20        73\n",
      "       Швец Богдан       0.54      0.11      0.19       176\n",
      "    Евхута Надежда       0.44      0.25      0.32       368\n",
      "       Малеев Егор       0.50      0.05      0.09       101\n",
      "      Повшок Игорь       0.00      0.00      0.00        13\n",
      "  Королев Владимир       0.57      0.09      0.15        46\n",
      "  Сивицкая Татьяна       0.78      0.09      0.16        78\n",
      "    Сергиевич Юрий       0.75      0.10      0.18        60\n",
      "   Головач Василий       0.00      0.00      0.00        11\n",
      "     Войтко Сергей       0.00      0.00      0.00         3\n",
      "\n",
      "       avg / total       0.51      0.48      0.42      2733\n",
      "\n"
     ]
    },
    {
     "name": "stderr",
     "output_type": "stream",
     "text": [
      "C:\\Users\\pokrovskiye\\AppData\\Local\\Continuum\\anaconda3\\lib\\site-packages\\sklearn\\metrics\\classification.py:1135: UndefinedMetricWarning: Precision and F-score are ill-defined and being set to 0.0 in labels with no predicted samples.\n",
      "  'precision', 'predicted', average, warn_for)\n"
     ]
    }
   ],
   "source": [
    "print(metrics.classification_report(y_test, y_pred, target_names=df['specialist'].unique()))"
   ]
  },
  {
   "cell_type": "code",
   "execution_count": 33,
   "metadata": {},
   "outputs": [
    {
     "data": {
      "text/plain": [
       "['itil-tfidf.pkl']"
      ]
     },
     "execution_count": 33,
     "metadata": {},
     "output_type": "execute_result"
    }
   ],
   "source": [
    "joblib.dump(model, 'itil-multinb.pkl')\n",
    "joblib.dump(tfidf, 'itil-tfidf.pkl')"
   ]
  },
  {
   "cell_type": "markdown",
   "metadata": {},
   "source": [
    "# doc2vec"
   ]
  },
  {
   "cell_type": "code",
   "execution_count": null,
   "metadata": {},
   "outputs": [],
   "source": [
    "from gensim.models.doc2vec import TaggedDocument, Doc2Vec\n",
    "from gensim.utils import simple_preprocess"
   ]
  },
  {
   "cell_type": "code",
   "execution_count": null,
   "metadata": {},
   "outputs": [],
   "source": [
    "def tag_docs(docs, col, label): \n",
    "    tagged = docs.apply(lambda r: TaggedDocument(words=simple_preprocess(r[col]), tags=[r[label]]),  axis=1) \n",
    "    return tagged\n",
    "\n",
    "def train_doc2vec_model(tagged_docs): \n",
    "    sents = tagged_docs.values\n",
    "    doc2vec_model = Doc2Vec(sents, epochs=20, dm=1) #size=size, window=window, \n",
    "    return doc2vec_model\n",
    "\n",
    "def vec_for_learning(doc2vec_model, tagged_docs):\n",
    "    sents = tagged_docs.values \n",
    "    targets, regressors =  zip(*[(doc.tags[0], doc2vec_model.infer_vector(doc.words, steps=20)) for doc in sents])\n",
    "    return targets, regressors"
   ]
  },
  {
   "cell_type": "code",
   "execution_count": null,
   "metadata": {},
   "outputs": [],
   "source": [
    "train_tagged = tag_docs(train_data, 'title', 'specialist')\n",
    "test_tagged = tag_docs(test_data, 'title', 'specialist')\n",
    "model = train_doc2vec_model(train_tagged)"
   ]
  },
  {
   "cell_type": "code",
   "execution_count": null,
   "metadata": {},
   "outputs": [],
   "source": [
    "y_train, X_train = vec_for_learning(model, train_tagged)\n",
    "y_test, X_test = vec_for_learning(model, test_tagged)\n",
    "logreg = LogisticRegression()\n",
    "logreg.fit(X_train, y_train) \n",
    "y_pred = logreg.predict(X_test)"
   ]
  },
  {
   "cell_type": "code",
   "execution_count": null,
   "metadata": {},
   "outputs": [],
   "source": [
    "print(metrics.classification_report(y_test, y_pred, target_names=df['specialist'].unique()))"
   ]
  }
 ],
 "metadata": {
  "kernelspec": {
   "display_name": "Python 3",
   "language": "python",
   "name": "python3"
  },
  "language_info": {
   "codemirror_mode": {
    "name": "ipython",
    "version": 3
   },
   "file_extension": ".py",
   "mimetype": "text/x-python",
   "name": "python",
   "nbconvert_exporter": "python",
   "pygments_lexer": "ipython3",
   "version": "3.6.6"
  }
 },
 "nbformat": 4,
 "nbformat_minor": 2
}
